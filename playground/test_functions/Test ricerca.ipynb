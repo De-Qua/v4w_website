{
 "cells": [
  {
   "cell_type": "code",
   "execution_count": 100,
   "metadata": {
    "collapsed": false
   },
   "outputs": [],
   "source": [
    "# mydifflib.py\n",
    "from difflib import SequenceMatcher\n",
    "#from heapq import nlargest as _nlargest\n",
    "import numpy as np\n",
    "import os \n",
    "import time \n",
    "from heapq import nlargest \n",
    "\n",
    "\n",
    "folder = os.getcwd()\n",
    "folder_db = os.path.join(folder,\"app\",\"static\",\"files\")\n",
    "path_civ = os.path.join(folder_db,\"lista_key.txt\")\n",
    "path_coords = os.path.join(folder_db,\"lista_coords.txt\")\n",
    "civici_tpn = np.loadtxt(path_civ, delimiter = \";\" ,dtype='str')\n",
    "coords = np.loadtxt(path_coords, delimiter = \",\")"
   ]
  },
  {
   "cell_type": "code",
   "execution_count": 101,
   "metadata": {
    "collapsed": false
   },
   "outputs": [
    {
     "data": {
      "text/plain": [
       "array(['CANNAREGIO 3958,', 'CASTELLO 6795,', 'CASTELLO 5332,', ...,\n",
       "       'PONTE DELLA LATTE,', 'PONTE DE RIALTO,', 'PONTE STORTO,'],\n",
       "      dtype='<U51')"
      ]
     },
     "execution_count": 101,
     "metadata": {},
     "output_type": "execute_result"
    }
   ],
   "source": [
    "civici_tpn"
   ]
  },
  {
   "cell_type": "code",
   "execution_count": 102,
   "metadata": {
    "collapsed": true
   },
   "outputs": [],
   "source": [
    "# Copia-incolla della versione originale\n",
    "from difflib import SequenceMatcher\n",
    "from heapq import nlargest as _nlargest\n",
    "\n",
    "def get_close_matches_indexes_original(word, possibilities, n=3, cutoff=0.6):\n",
    "    \"\"\"Use SequenceMatcher to return a list of the indexes of the best \n",
    "    \"good enough\" matches. word is a sequence for which close matches \n",
    "    are desired (typically a string).\n",
    "    possibilities is a list of sequences against which to match word\n",
    "    (typically a list of strings).\n",
    "    Optional arg n (default 3) is the maximum number of close matches to\n",
    "    return.  n must be > 0.\n",
    "    Optional arg cutoff (default 0.6) is a float in [0, 1].  Possibilities\n",
    "    that don't score at least that similar to word are ignored.\n",
    "    \"\"\"\n",
    "\n",
    "    if not n >  0:\n",
    "        raise ValueError(\"n must be > 0: %r\" % (n,))\n",
    "    if not 0.0 <= cutoff <= 1.0:\n",
    "        raise ValueError(\"cutoff must be in [0.0, 1.0]: %r\" % (cutoff,))\n",
    "    result = []\n",
    "    s = SequenceMatcher()\n",
    "    s.set_seq2(word)\n",
    "    for idx, x in enumerate(possibilities):\n",
    "        s.set_seq1(x)\n",
    "        if s.real_quick_ratio() >= cutoff and \\\n",
    "           s.quick_ratio() >= cutoff and \\\n",
    "           s.ratio() >= cutoff:\n",
    "            result.append((s.ratio(), idx))\n",
    "\n",
    "    # Move the best scorers to head of list\n",
    "    result = _nlargest(n, result)\n",
    "\n",
    "    # Strip scores for the best n matches\n",
    "    #return [x for score, x in result]\n",
    "    # Modified by Ale\n",
    "    return result"
   ]
  },
  {
   "cell_type": "code",
   "execution_count": 103,
   "metadata": {
    "collapsed": false
   },
   "outputs": [
    {
     "name": "stdout",
     "output_type": "stream",
     "text": [
      "rialto\n",
      "1.0\n"
     ]
    }
   ],
   "source": [
    "s = SequenceMatcher()\n",
    "word1 = \"campo de rialto\"\n",
    "word2 = \"rialto\"\n",
    "s.set_seq1(word1)\n",
    "s.set_seq2(word2)\n",
    "match = s.find_longest_match(0, len(word1), 0, len(word2))\n",
    "print(word1[match.a:])\n",
    "matched_words = word1[match.a:].split(\" \")\n",
    "first_matched_word = matched_words[0]\n",
    "print(match.size / len(first_matched_word))"
   ]
  },
  {
   "cell_type": "code",
   "execution_count": 158,
   "metadata": {
    "collapsed": true
   },
   "outputs": [],
   "source": [
    "def get_close_matches_indexes(word, possibilities, junk_seq=None, n=3, cutoff=0.5):\n",
    "    \"\"\"Use SequenceMatcher to return a list of the indexes of the best\n",
    "    \"good enough\" matches. word is a sequence for which close matches\n",
    "    are desired (typically a string).\n",
    "    possibilities is a list of sequences against which to match word\n",
    "    (typically a list of strings).\n",
    "    Optional arg n (default 3) is the maximum number of close matches to\n",
    "    return.  n must be > 0.\n",
    "    Optional arg cutoff (default 0.6) is a float in [0, 1].  Possibilities\n",
    "    that don't score at least that similar to word are ignored.\n",
    "    \"\"\"\n",
    "\n",
    "    if not n >  0:\n",
    "        raise ValueError(\"n must be > 0: %r\" % (n,))\n",
    "    if not 0.0 <= cutoff <= 1.0:\n",
    "        raise ValueError(\"cutoff must be in [0.0, 1.0]: %r\" % (cutoff,))\n",
    "    result_ratio = []\n",
    "    result_idx = []\n",
    "    # se vogliamo escludere le \"junk sequence\" (in questo caso lo spazio) SequenceMatcher(lambda x: x==\" \"),  \n",
    "    if junk_seq:\n",
    "        s = SequenceMatcher(isjunk=lambda x: x==junk_seq)\n",
    "    else:\n",
    "        s = SequenceMatcher()\n",
    "    s.set_seq2(word)\n",
    "    \n",
    "    for idx, x in enumerate(possibilities):\n",
    "        s.set_seq1(x)\n",
    "        \n",
    "        #print(longest_word, word)\n",
    "        longest_match = s.find_longest_match(0, len(x), 0, len(word))\n",
    "        words = x.split(' ')\n",
    "        longest_word = len(word)\n",
    "        for c_word in words:\n",
    "            if len(c_word) > longest_word:\n",
    "                #print(c_word)\n",
    "                longest_word = len(c_word)\n",
    "        our_ratio = (longest_match.size) / longest_word\n",
    "        \n",
    "        if our_ratio >= cutoff:\n",
    "            match = s.find_longest_match(0, len(x), 0, len(word))\n",
    "            #print(match)\n",
    "            #print (word[match.a:match.a + match.size])\n",
    "            result_ratio.append(our_ratio)\n",
    "            result_idx.append(idx)\n",
    "    #    if s.real_quick_ratio() >= cutoff and \\\n",
    "    #       s.quick_ratio() >= cutoff and \\\n",
    "    #       s.ratio() >= cutoff:\n",
    "    #        result_ratio.append(s.ratio())\n",
    "    #        result_idx.append(idx)\n",
    "\n",
    "    # Move the best scorers to head of list\n",
    "    max_idx = []\n",
    "    if result_ratio:\n",
    "        ratios = np.asarray(result_ratio)\n",
    "\n",
    "        #result = nlargest(n, result_ratio)\n",
    "        max_idx = []\n",
    "        for i in range(n):\n",
    "            arg_max_idx=np.argmax(result_ratio)\n",
    "            if result_ratio[arg_max_idx] < cutoff:\n",
    "                max_idx.append((-1, 0))\n",
    "            else:\n",
    "                max_idx.append((result_idx[arg_max_idx], result_ratio[arg_max_idx]))\n",
    "            #print(result_ratio[arg_max_idx])\n",
    "            result_ratio[arg_max_idx] = 0\n",
    "            \n",
    "    \n",
    "    # Strip scores for the best n matches\n",
    "    return max_idx\n"
   ]
  },
  {
   "cell_type": "code",
   "execution_count": 159,
   "metadata": {
    "collapsed": false,
    "scrolled": false
   },
   "outputs": [
    {
     "name": "stdout",
     "output_type": "stream",
     "text": [
      "[(36774, 0.875), (36776, 0.875)]\n"
     ]
    }
   ],
   "source": [
    "res = get_close_matches_indexes(\"gesuiti\".upper(), civici_tpn, \" \", n=2, cutoff=0.4)\n",
    "print(res)\n",
    "#[print(civici_tpn[i]) for i in res]"
   ]
  },
  {
   "cell_type": "code",
   "execution_count": 133,
   "metadata": {
    "collapsed": false
   },
   "outputs": [
    {
     "name": "stdout",
     "output_type": "stream",
     "text": [
      "campo\n"
     ]
    },
    {
     "ename": "IndexError",
     "evalue": "only integers, slices (`:`), ellipsis (`...`), numpy.newaxis (`None`) and integer or boolean arrays are valid indices",
     "output_type": "error",
     "traceback": [
      "\u001b[0;31m---------------------------------------------------------------------------\u001b[0m",
      "\u001b[0;31mIndexError\u001b[0m                                Traceback (most recent call last)",
      "\u001b[0;32m<ipython-input-133-715b5619d2af>\u001b[0m in \u001b[0;36m<module>\u001b[0;34m\u001b[0m\n\u001b[1;32m      1\u001b[0m \u001b[0mres\u001b[0m \u001b[0;34m=\u001b[0m \u001b[0mget_close_matches_indexes\u001b[0m\u001b[0;34m(\u001b[0m\u001b[0;34m\"san polo\"\u001b[0m\u001b[0;34m.\u001b[0m\u001b[0mupper\u001b[0m\u001b[0;34m(\u001b[0m\u001b[0;34m)\u001b[0m\u001b[0;34m,\u001b[0m \u001b[0mcivici_tpn\u001b[0m\u001b[0;34m,\u001b[0m \u001b[0;34m\"campo\"\u001b[0m\u001b[0;34m,\u001b[0m \u001b[0mn\u001b[0m\u001b[0;34m=\u001b[0m\u001b[0;36m3\u001b[0m\u001b[0;34m,\u001b[0m \u001b[0mcutoff\u001b[0m\u001b[0;34m=\u001b[0m\u001b[0;36m0.5\u001b[0m\u001b[0;34m)\u001b[0m\u001b[0;34m\u001b[0m\u001b[0;34m\u001b[0m\u001b[0m\n\u001b[0;32m----> 2\u001b[0;31m \u001b[0;34m[\u001b[0m\u001b[0mcivici_tpn\u001b[0m\u001b[0;34m[\u001b[0m\u001b[0mi\u001b[0m\u001b[0;34m]\u001b[0m \u001b[0;32mfor\u001b[0m \u001b[0mi\u001b[0m \u001b[0;32min\u001b[0m \u001b[0mres\u001b[0m\u001b[0;34m]\u001b[0m\u001b[0;34m\u001b[0m\u001b[0;34m\u001b[0m\u001b[0m\n\u001b[0m",
      "\u001b[0;32m<ipython-input-133-715b5619d2af>\u001b[0m in \u001b[0;36m<listcomp>\u001b[0;34m(.0)\u001b[0m\n\u001b[1;32m      1\u001b[0m \u001b[0mres\u001b[0m \u001b[0;34m=\u001b[0m \u001b[0mget_close_matches_indexes\u001b[0m\u001b[0;34m(\u001b[0m\u001b[0;34m\"san polo\"\u001b[0m\u001b[0;34m.\u001b[0m\u001b[0mupper\u001b[0m\u001b[0;34m(\u001b[0m\u001b[0;34m)\u001b[0m\u001b[0;34m,\u001b[0m \u001b[0mcivici_tpn\u001b[0m\u001b[0;34m,\u001b[0m \u001b[0;34m\"campo\"\u001b[0m\u001b[0;34m,\u001b[0m \u001b[0mn\u001b[0m\u001b[0;34m=\u001b[0m\u001b[0;36m3\u001b[0m\u001b[0;34m,\u001b[0m \u001b[0mcutoff\u001b[0m\u001b[0;34m=\u001b[0m\u001b[0;36m0.5\u001b[0m\u001b[0;34m)\u001b[0m\u001b[0;34m\u001b[0m\u001b[0;34m\u001b[0m\u001b[0m\n\u001b[0;32m----> 2\u001b[0;31m \u001b[0;34m[\u001b[0m\u001b[0mcivici_tpn\u001b[0m\u001b[0;34m[\u001b[0m\u001b[0mi\u001b[0m\u001b[0;34m]\u001b[0m \u001b[0;32mfor\u001b[0m \u001b[0mi\u001b[0m \u001b[0;32min\u001b[0m \u001b[0mres\u001b[0m\u001b[0;34m]\u001b[0m\u001b[0;34m\u001b[0m\u001b[0;34m\u001b[0m\u001b[0m\n\u001b[0m",
      "\u001b[0;31mIndexError\u001b[0m: only integers, slices (`:`), ellipsis (`...`), numpy.newaxis (`None`) and integer or boolean arrays are valid indices"
     ]
    }
   ],
   "source": [
    "res = get_close_matches_indexes(\"san polo\".upper(), civici_tpn, \"campo\", n=3, cutoff=0.5)\n",
    "[civici_tpn[i] for i in res]"
   ]
  },
  {
   "cell_type": "markdown",
   "metadata": {},
   "source": [
    "Creiamo una lista di indirizzi problematici in modo da fare testing di diversi algoritmi. \n",
    "servirà un sistema di alias della richiesta(s. -> san) e del database (margarita->margherita)\n",
    "Si potrebbe togliere le stopwords solo da la parola che andiamo a matchare. E mettere lo spazio come junk."
   ]
  },
  {
   "cell_type": "code",
   "execution_count": 107,
   "metadata": {
    "collapsed": true
   },
   "outputs": [],
   "source": [
    "def correct_name(name):\n",
    "    # prende la stringa in ingresso e fa delle sostituzioni\n",
    "    # 0. Eliminare spazi iniziali e finali\n",
    "    name = name.strip()\n",
    "    # 1. Sostituzione s.->san\n",
    "    name = name.replace(\"s.\",\"san \")\n",
    "    # 2. Rimozione doppi spazi\n",
    "    name = name.replace(\"  \",\" \")\n",
    "    # Ritorna stringa corretta\n",
    "    return name.upper()"
   ]
  },
  {
   "cell_type": "code",
   "execution_count": 108,
   "metadata": {
    "collapsed": false
   },
   "outputs": [
    {
     "ename": "SyntaxError",
     "evalue": "invalid syntax (<ipython-input-108-7ecaf21084f7>, line 29)",
     "output_type": "error",
     "traceback": [
      "\u001b[0;36m  File \u001b[0;32m\"<ipython-input-108-7ecaf21084f7>\"\u001b[0;36m, line \u001b[0;32m29\u001b[0m\n\u001b[0;31m    if len(sestiere_found) == 1 or (len(sestiere_found)>1 and SequenceMatcher(None, sestiere, sestiere_found[0]).ratio())>0.85):\u001b[0m\n\u001b[0m                                                                                                                              ^\u001b[0m\n\u001b[0;31mSyntaxError\u001b[0m\u001b[0;31m:\u001b[0m invalid syntax\n"
     ]
    }
   ],
   "source": [
    "import re\n",
    "from difflib import SequenceMatcher\n",
    "def search_name(name):\n",
    "    # in base alla formattazione del nome cerca nel database civici o toponimi\n",
    "    # prima di tutto correggere il nome\n",
    "    name = correct_name(name)\n",
    "    # format del civico: \n",
    "    # 1. inizia con un numero (es. \"2054 santa marta\")\n",
    "    # 2. finisce con un numero (es. \"san polo 1424\")\n",
    "    # 3. finisce con un numero e una lettera (es. \"santa croce 1062b\" oppure \"1062 b\" oppure \"1062/b\")\n",
    "    # nb se il numero è seguito da una lettera ed è all'inizio del nome, la lettera viene riconosciuta solo se seguita da uno spazio\n",
    "    format_civico = re.compile(\"(^\\d+([ |/]?\\w )?)|(\\d+[ |/]?\\w?$)\")\n",
    "    is_civico = format_civico.search(name)\n",
    "    if is_civico:\n",
    "        # se il nome cercato rientra nel format del civico estrae il numero\n",
    "        numero = is_civico.group(0)\n",
    "        # formatta il numero nel format in cui è salvato nel database\n",
    "        numero_cifra = re.findall(r'\\d+',numero)\n",
    "        numero_lettera = re.findall(r'[a-z]',numero)\n",
    "        numero = numero_cifra[0]\n",
    "        if numero_lettera:\n",
    "            numero += '/' + numero_lettera[0]  \n",
    "        \n",
    "        sestiere = name[:is_civico.start()]+name[is_civico.end():]\n",
    "        sestiere = sestiere.strip() # elimina spazi che possono essersi creati togliendo il numero\n",
    "\n",
    "        sestieri_list = np.array(['SAN POLO','SANTA CROCE','SAN MARCO','DORSODURO','CANNAREGIO','CASTELLO','GIUDECCA'])\n",
    "        sestiere_found = get_close_matches(sestiere,sestieri_list,n=1,cutoff=0.6)\n",
    "        if len(sestiere_found) == 1 or (len(sestiere_found)>1 and SequenceMatcher(None, sestiere, sestiere_found[0]).ratio())>0.85):\n",
    "            # concatena sestiere e numero\n",
    "            name2search = sestiere_found[0] + \" \" + numero\n",
    "            # TODO lista INDIRIZZI\n",
    "            list_of_possibilities = lista_indirizzi\n",
    "        else:\n",
    "            name2search = sestiere + \" \" + numero\n",
    "            list_of_possibilities = lista_denominazioni\n",
    "        results = get_close_matches_indexes_original(name2search,list_of_possibilities,n=5,cutoff=0.4)\n",
    "        \n",
    "    else:\n",
    "        # TODO cerca usando db toponimi "
   ]
  },
  {
   "cell_type": "code",
   "execution_count": 109,
   "metadata": {
    "collapsed": false
   },
   "outputs": [
    {
     "data": {
      "text/plain": [
       "<_sre.SRE_Match object; span=(0, 4), match='1424'>"
      ]
     },
     "execution_count": 109,
     "metadata": {},
     "output_type": "execute_result"
    }
   ],
   "source": [
    "import re\n",
    "name = \"1424 san polo\"\n",
    "format_civico = re.compile(\"(^\\d+([ |/]?\\w )?)|(\\d+[ |/]?\\w?$)\")\n",
    "is_civico = format_civico.search(name)\n",
    "is_civico"
   ]
  },
  {
   "cell_type": "code",
   "execution_count": 110,
   "metadata": {
    "collapsed": false
   },
   "outputs": [
    {
     "name": "stdout",
     "output_type": "stream",
     "text": [
      "GET_CLOSE_MATCHES\n",
      "san marlo > SAN MARCO - 0.8888888888888888\n",
      "san marlo > SAN POLO - 0.7058823529411765\n",
      "GET_CLOSE_MATCHES_INDEXES\n",
      "san marlo > SAN MARCO - 0.8888888888888888\n",
      "san marlo > SAN POLO - 0.7058823529411765\n"
     ]
    }
   ],
   "source": [
    "from difflib import get_close_matches, SequenceMatcher\n",
    "search = \"san marlo\"\n",
    "str2search = search.upper()\n",
    "sestieri_list = np.array(['SAN POLO','SANTA CROCE','SAN MARCO','DORSODURO','CANNAREGIO','CASTELLO','GIUDECCA'])\n",
    "print('GET_CLOSE_MATCHES')\n",
    "sestiere_found = get_close_matches(str2search,sestieri_list,n=5,cutoff=0.7)\n",
    "for s in sestiere_found:\n",
    "    print(search + \" > \" + s + \" - \" + str(SequenceMatcher(None, str2search, s).ratio()))\n",
    "print('GET_CLOSE_MATCHES_INDEXES')\n",
    "matches = get_close_matches_indexes_original(str2search,sestieri_list,n=5,cutoff=0.7)\n",
    "for s,m in matches:\n",
    "    print(search + \" > \" + sestieri_list[m] + \" - \" + str(s))\n"
   ]
  },
  {
   "cell_type": "code",
   "execution_count": 157,
   "metadata": {
    "collapsed": false
   },
   "outputs": [
    {
     "name": "stdout",
     "output_type": "stream",
     "text": [
      "\n",
      "GET_CLOSE_MATCHES - 0.22845983505249023 seconds\n",
      "erbaria > ERBERIA, - 0.8\n",
      "erbaria > PESCARIA, - 0.625\n",
      "\n",
      "GET_CLOSE_MATCHES_INDEXES_MODIFIED - 0.501488447189331 seconds\n",
      "erbaria > BARBARIA DE LE TOLE, - 0.75\n",
      "erbaria > CAMPO DE SANTA GIUSTINA DETTO DE BARBARIA, - 0.6666666666666666\n",
      "erbaria > SOTOPORTEGO DE L'ERBARIA, - 0.6363636363636364\n",
      "erbaria > niente - 0\n",
      "erbaria > niente - 0\n",
      "\n",
      "GET_CLOSE_MATCHES_INDEXES_ORIGINAL - 0.8879616260528564 seconds\n",
      "erbaria > ERBERIA, - 0.8\n",
      "erbaria > PESCARIA, - 0.625\n",
      "erbaria > FREZZARIA, - 0.5882352941176471\n",
      "erbaria > RAMO BARZIZZA, - 0.5714285714285714\n",
      "erbaria > CORTE BARZIZZA, - 0.5454545454545454\n",
      "\n",
      "FUZZY RATIO - extract - 3.2026543617248535 seconds\n",
      "erbaria > SOTOPORTEGO DE L'ERBARIA, - 90\n",
      "erbaria > ERBERIA, - 86\n",
      "erbaria > CAMPO DE SANTA GIUSTINA DETTO DE BARBARIA, - 77\n",
      "erbaria > BARBARIA DE LE TOLE, - 77\n",
      "erbaria > PESCARIA, - 67\n",
      "\n",
      "FUZZY RATIO - extractBests - 2.964280843734741 seconds\n",
      "erbaria > SOTOPORTEGO DE L'ERBARIA, - 90\n",
      "erbaria > ERBERIA, - 86\n",
      "erbaria > CAMPO DE SANTA GIUSTINA DETTO DE BARBARIA, - 77\n",
      "erbaria > BARBARIA DE LE TOLE, - 77\n",
      "erbaria > PESCARIA, - 67\n"
     ]
    }
   ],
   "source": [
    "from fuzzywuzzy import fuzz, process\n",
    "import time\n",
    "search = 'erbaria'\n",
    "str2search = search.upper()\n",
    "\n",
    "# CLOSE MATCHES\n",
    "t1 = time.time()\n",
    "matches = get_close_matches(str2search,civici_tpn,n=5,cutoff=0.6)\n",
    "print('\\nGET_CLOSE_MATCHES - {timed} seconds'.format(timed=time.time()-t1))\n",
    "for m in matches:\n",
    "    print(search + \" > \" + m + \" - \" + str(SequenceMatcher(None, str2search, m).ratio()))\n",
    "\n",
    "# MODIFIED INDICES\n",
    "t1 = time.time()\n",
    "matches = get_close_matches_indexes(str2search, civici_tpn, \" \",n=5,cutoff=0.6)\n",
    "print('\\nGET_CLOSE_MATCHES_INDEXES_MODIFIED - {timed} seconds'.format(timed=time.time()-t1))\n",
    "for m in matches:\n",
    "    if m[0] > 0:\n",
    "        print(search + \" > \" + str(civici_tpn[m[0]]) + \" - \" + str(m[1]))\n",
    "    else:\n",
    "        print(search + \" > \" + str('niente') + \" - \" + str(m[1]))\n",
    "    \n",
    "# INDICES ORIGINAL\n",
    "t1 = time.time()\n",
    "matches = get_close_matches_indexes_original(str2search,civici_tpn,n=5,cutoff=0.3)\n",
    "print('\\nGET_CLOSE_MATCHES_INDEXES_ORIGINAL - {timed} seconds'.format(timed=time.time()-t1))\n",
    "for s,m in matches:\n",
    "    print(search + \" > \" + civici_tpn[m] + \" - \" + str(s))\n",
    "    \n",
    "# FUZZY EXTRACT\n",
    "t1 = time.time()\n",
    "matches = process.extract(str2search,civici_tpn,limit=5)\n",
    "print('\\nFUZZY RATIO - extract - {timed} seconds'.format(timed=time.time()-t1))\n",
    "for m,s in matches:\n",
    "    print(search + \" > \" + m + \" - \" + str(s))\n",
    "    \n",
    "# FUZZY EXTRACTBESTS\n",
    "t1 = time.time()\n",
    "matches = process.extractBests(str2search,civici_tpn,score_cutoff=60,limit=5)\n",
    "print('\\nFUZZY RATIO - extractBests - {timed} seconds'.format(timed=time.time()-t1))\n",
    "for m,s in matches:\n",
    "    print(search + \" > \" + m + \" - \" + str(s))\n"
   ]
  },
  {
   "cell_type": "code",
   "execution_count": 13,
   "metadata": {
    "collapsed": false
   },
   "outputs": [
    {
     "name": "stdout",
     "output_type": "stream",
     "text": [
      "SOTOPORTEGO DE RIALTO, 90\n",
      "CAMPO RIALTO NOVO, 90\n",
      "PONTE DE RIALTO, 90\n",
      "RIELO, 73\n",
      "RIELO, 73\n"
     ]
    }
   ],
   "source": [
    "matches\n",
    "for m,s in matches:\n",
    "    print(m,str(s))"
   ]
  },
  {
   "cell_type": "code",
   "execution_count": 117,
   "metadata": {
    "collapsed": false
   },
   "outputs": [
    {
     "name": "stdout",
     "output_type": "stream",
     "text": [
      "\n",
      "GET_CLOSE_MATCHES - 0.1478419303894043 seconds\n",
      "rialto > RIELO, - 0.6666666666666666\n",
      "rialto > RIELO, - 0.6666666666666666\n"
     ]
    },
    {
     "ename": "ValueError",
     "evalue": "The truth value of an array with more than one element is ambiguous. Use a.any() or a.all()",
     "output_type": "error",
     "traceback": [
      "\u001b[0;31m---------------------------------------------------------------------------\u001b[0m",
      "\u001b[0;31mValueError\u001b[0m                                Traceback (most recent call last)",
      "\u001b[0;32m<ipython-input-117-dfea472e51e1>\u001b[0m in \u001b[0;36m<module>\u001b[0;34m\u001b[0m\n\u001b[1;32m     15\u001b[0m     \u001b[0;31m# MODIFIED INDICES\u001b[0m\u001b[0;34m\u001b[0m\u001b[0;34m\u001b[0m\u001b[0;34m\u001b[0m\u001b[0m\n\u001b[1;32m     16\u001b[0m     \u001b[0mt1\u001b[0m \u001b[0;34m=\u001b[0m \u001b[0mtime\u001b[0m\u001b[0;34m.\u001b[0m\u001b[0mtime\u001b[0m\u001b[0;34m(\u001b[0m\u001b[0;34m)\u001b[0m\u001b[0;34m\u001b[0m\u001b[0;34m\u001b[0m\u001b[0m\n\u001b[0;32m---> 17\u001b[0;31m     \u001b[0mmatches\u001b[0m \u001b[0;34m=\u001b[0m \u001b[0mget_close_matches_indexes\u001b[0m\u001b[0;34m(\u001b[0m\u001b[0mstr2search\u001b[0m\u001b[0;34m,\u001b[0m\u001b[0;34m\"\"\u001b[0m\u001b[0;34m,\u001b[0m \u001b[0mcivici_tpn\u001b[0m\u001b[0;34m,\u001b[0m\u001b[0mn\u001b[0m\u001b[0;34m=\u001b[0m\u001b[0;36m5\u001b[0m\u001b[0;34m,\u001b[0m\u001b[0mcutoff\u001b[0m\u001b[0;34m=\u001b[0m\u001b[0;36m0.51\u001b[0m\u001b[0;34m)\u001b[0m\u001b[0;34m\u001b[0m\u001b[0;34m\u001b[0m\u001b[0m\n\u001b[0m\u001b[1;32m     18\u001b[0m     \u001b[0mprint\u001b[0m\u001b[0;34m(\u001b[0m\u001b[0;34m'\\nGET_CLOSE_MATCHES_INDEXES_MODIFIED - {timed} seconds'\u001b[0m\u001b[0;34m.\u001b[0m\u001b[0mformat\u001b[0m\u001b[0;34m(\u001b[0m\u001b[0mtimed\u001b[0m\u001b[0;34m=\u001b[0m\u001b[0mtime\u001b[0m\u001b[0;34m.\u001b[0m\u001b[0mtime\u001b[0m\u001b[0;34m(\u001b[0m\u001b[0;34m)\u001b[0m\u001b[0;34m-\u001b[0m\u001b[0mt1\u001b[0m\u001b[0;34m)\u001b[0m\u001b[0;34m)\u001b[0m\u001b[0;34m\u001b[0m\u001b[0;34m\u001b[0m\u001b[0m\n\u001b[1;32m     19\u001b[0m     \u001b[0;32mfor\u001b[0m \u001b[0mm\u001b[0m \u001b[0;32min\u001b[0m \u001b[0mmatches\u001b[0m\u001b[0;34m:\u001b[0m\u001b[0;34m\u001b[0m\u001b[0;34m\u001b[0m\u001b[0m\n",
      "\u001b[0;32m<ipython-input-115-18b5ac32d5ae>\u001b[0m in \u001b[0;36mget_close_matches_indexes\u001b[0;34m(word, possibilities, junk_seq, n, cutoff)\u001b[0m\n\u001b[1;32m     18\u001b[0m     \u001b[0mresult_idx\u001b[0m \u001b[0;34m=\u001b[0m \u001b[0;34m[\u001b[0m\u001b[0;34m]\u001b[0m\u001b[0;34m\u001b[0m\u001b[0;34m\u001b[0m\u001b[0m\n\u001b[1;32m     19\u001b[0m     \u001b[0;31m# se vogliamo escludere le \"junk sequence\" (in questo caso lo spazio) SequenceMatcher(lambda x: x==\" \"),\u001b[0m\u001b[0;34m\u001b[0m\u001b[0;34m\u001b[0m\u001b[0;34m\u001b[0m\u001b[0m\n\u001b[0;32m---> 20\u001b[0;31m     \u001b[0;32mif\u001b[0m \u001b[0mjunk_seq\u001b[0m\u001b[0;34m:\u001b[0m\u001b[0;34m\u001b[0m\u001b[0;34m\u001b[0m\u001b[0m\n\u001b[0m\u001b[1;32m     21\u001b[0m         \u001b[0ms\u001b[0m \u001b[0;34m=\u001b[0m \u001b[0mSequenceMatcher\u001b[0m\u001b[0;34m(\u001b[0m\u001b[0misjunk\u001b[0m\u001b[0;34m=\u001b[0m\u001b[0;32mlambda\u001b[0m \u001b[0mx\u001b[0m\u001b[0;34m:\u001b[0m \u001b[0mx\u001b[0m\u001b[0;34m==\u001b[0m\u001b[0mjunk_seq\u001b[0m\u001b[0;34m)\u001b[0m\u001b[0;34m\u001b[0m\u001b[0;34m\u001b[0m\u001b[0m\n\u001b[1;32m     22\u001b[0m     \u001b[0;32melse\u001b[0m\u001b[0;34m:\u001b[0m\u001b[0;34m\u001b[0m\u001b[0;34m\u001b[0m\u001b[0m\n",
      "\u001b[0;31mValueError\u001b[0m: The truth value of an array with more than one element is ambiguous. Use a.any() or a.all()"
     ]
    }
   ],
   "source": [
    "from fuzzywuzzy import fuzz, process\n",
    "import time\n",
    "searches = ['rialto', 'santa margherita', 'baia del re', '2054 santa marta', 'cannaregio 3727/b',\n",
    "                               'erbaria', 'campo san polo', 'san polo 1414']\n",
    "for search in searches:\n",
    "    str2search = search.upper()\n",
    "\n",
    "    # CLOSE MATCHES\n",
    "    t1 = time.time()\n",
    "    matches = get_close_matches(str2search,civici_tpn,n=5,cutoff=0.6)\n",
    "    print('\\nGET_CLOSE_MATCHES - {timed} seconds'.format(timed=time.time()-t1))\n",
    "    for m in matches:\n",
    "        print(search + \" > \" + m + \" - \" + str(SequenceMatcher(None, str2search, m).ratio()))\n",
    "\n",
    "    # MODIFIED INDICES\n",
    "    t1 = time.time()\n",
    "    matches = get_close_matches_indexes(str2search,\"\", civici_tpn,n=5,cutoff=0.51)\n",
    "    print('\\nGET_CLOSE_MATCHES_INDEXES_MODIFIED - {timed} seconds'.format(timed=time.time()-t1))\n",
    "    for m in matches:\n",
    "        if m[0] > 0:\n",
    "            print(search + \" > \" + str(m[0]) + \": \" + str(civici_tpn[m[0]]) + \" - \" + str(m[1]))\n",
    "        else:\n",
    "            print(search + \" > \" + str(m[0]) + \": \" + str('niente') + \" - \" + str(m[1]))\n",
    "\n",
    "    # INDICES ORIGINAL\n",
    "    t1 = time.time()\n",
    "    matches = get_close_matches_indexes_original(str2search,civici_tpn,n=5,cutoff=0.6)\n",
    "    print('\\nGET_CLOSE_MATCHES_INDEXES_ORIGINAL - {timed} seconds'.format(timed=time.time()-t1))\n",
    "    for s,m in matches:\n",
    "        print(search + \" > \" + str(m) + \": \" + civici_tpn[m] + \" - \" + str(s))\n",
    "\n",
    "    # FUZZY EXTRACT\n",
    "    t1 = time.time()\n",
    "    matches = process.extract(str2search,civici_tpn,limit=5)\n",
    "    print('\\nFUZZY RATIO - extract - {timed} seconds'.format(timed=time.time()-t1))\n",
    "    for m,s in matches:\n",
    "        print(search + \" > \" + m + \" - \" + str(s))\n",
    "\n",
    "    # FUZZY EXTRACTBESTS\n",
    "    t1 = time.time()\n",
    "    matches = process.extractBests(str2search,civici_tpn,score_cutoff=60,limit=5)\n",
    "    print('\\nFUZZY RATIO - extractBests - {timed} seconds'.format(timed=time.time()-t1))\n",
    "    for m,s in matches:\n",
    "        print(search + \" > \" + m + \" - \" + str(s))\n"
   ]
  },
  {
   "cell_type": "code",
   "execution_count": 85,
   "metadata": {
    "collapsed": false
   },
   "outputs": [
    {
     "ename": "TypeError",
     "evalue": "'str' object is not callable",
     "output_type": "error",
     "traceback": [
      "\u001b[0;31m---------------------------------------------------------------------------\u001b[0m",
      "\u001b[0;31mTypeError\u001b[0m                                 Traceback (most recent call last)",
      "\u001b[0;32m<ipython-input-85-a847d71814a2>\u001b[0m in \u001b[0;36m<module>\u001b[0;34m\u001b[0m\n\u001b[1;32m     19\u001b[0m         \u001b[0mchallenging_search\u001b[0m \u001b[0;34m=\u001b[0m \u001b[0mlist_of_challenging_searches\u001b[0m\u001b[0;34m[\u001b[0m\u001b[0mi\u001b[0m\u001b[0;34m]\u001b[0m\u001b[0;34m\u001b[0m\u001b[0;34m\u001b[0m\u001b[0m\n\u001b[1;32m     20\u001b[0m         \u001b[0mdesired_results\u001b[0m \u001b[0;34m=\u001b[0m \u001b[0mlist_of_wanted_result\u001b[0m\u001b[0;34m[\u001b[0m\u001b[0mi\u001b[0m\u001b[0;34m]\u001b[0m\u001b[0;34m\u001b[0m\u001b[0;34m\u001b[0m\u001b[0m\n\u001b[0;32m---> 21\u001b[0;31m         \u001b[0mindices\u001b[0m\u001b[0;34m,\u001b[0m \u001b[0mratio\u001b[0m \u001b[0;34m=\u001b[0m \u001b[0mfunction_to_test\u001b[0m\u001b[0;34m(\u001b[0m\u001b[0mchallenging_search\u001b[0m\u001b[0;34m,\u001b[0m \u001b[0mcivici_tpn\u001b[0m\u001b[0;34m,\u001b[0m \u001b[0mn\u001b[0m\u001b[0;34m,\u001b[0m \u001b[0mcutoff\u001b[0m\u001b[0;34m)\u001b[0m\u001b[0;34m\u001b[0m\u001b[0;34m\u001b[0m\u001b[0m\n\u001b[0m\u001b[1;32m     22\u001b[0m         \u001b[0mpunti_for_this_search\u001b[0m \u001b[0;34m=\u001b[0m \u001b[0mcalculate_points\u001b[0m\u001b[0;34m(\u001b[0m\u001b[0mindices\u001b[0m\u001b[0;34m,\u001b[0m \u001b[0mratio\u001b[0m\u001b[0;34m,\u001b[0m \u001b[0mdesired_results\u001b[0m\u001b[0;34m)\u001b[0m\u001b[0;34m\u001b[0m\u001b[0;34m\u001b[0m\u001b[0m\n\u001b[1;32m     23\u001b[0m         \u001b[0mprint\u001b[0m\u001b[0;34m(\u001b[0m\u001b[0;34m\"{pt} obtained for this search ({search})\"\u001b[0m\u001b[0;34m.\u001b[0m\u001b[0mformat\u001b[0m\u001b[0;34m(\u001b[0m\u001b[0mpt\u001b[0m\u001b[0;34m=\u001b[0m\u001b[0mpunti_for_this_search\u001b[0m\u001b[0;34m,\u001b[0m \u001b[0msearch\u001b[0m\u001b[0;34m=\u001b[0m\u001b[0mchallenging_search\u001b[0m\u001b[0;34m)\u001b[0m\u001b[0;34m)\u001b[0m\u001b[0;34m\u001b[0m\u001b[0;34m\u001b[0m\u001b[0m\n",
      "\u001b[0;31mTypeError\u001b[0m: 'str' object is not callable"
     ]
    }
   ],
   "source": [
    "## TEST FUNCTION\n",
    "list_of_challenging_searches = ['rialto', 'santa margherita', 'baia del re', '2054 santa marta', 'cannaregio 3727/b',\n",
    "                               'erbaria', 'campo san polo', 'san polo 1414']\n",
    "# per ogni ricerca abbiamo 3 risultati e diamo un punteggio in base a cosa ogni metodo trova\n",
    "list_of_wanted_result = [[37486, 38372, 37457], []]\n",
    "\n",
    "functions_to_test = ['get_close_matches_indexes', 'get_close_matches_indexes_original']\n",
    "\n",
    "n = 3\n",
    "cutoff = 0.5\n",
    "\n",
    "for function_to_test in functions_to_test:\n",
    "    \n",
    "    punti = 0\n",
    "    \n",
    "    # loop through searches\n",
    "    for i in range(len(list_of_challenging_searches)):\n",
    "        \n",
    "        challenging_search = list_of_challenging_searches[i]\n",
    "        desired_results = list_of_wanted_result[i]\n",
    "        indices, ratio = function_to_test(challenging_search, civici_tpn, n, cutoff)\n",
    "        punti_for_this_search = calculate_points(indices, ratio, desired_results)\n",
    "        print(\"{pt} obtained for this search ({search})\".format(pt=punti_for_this_search, search=challenging_search))\n",
    "        punti += punti_for_this_search\n",
    "        \n",
    "    print(\"method {met} obtained {x} pts\".format(met=function_to_test, x=punti))\n",
    "    "
   ]
  },
  {
   "cell_type": "code",
   "execution_count": null,
   "metadata": {
    "collapsed": true
   },
   "outputs": [],
   "source": []
  }
 ],
 "metadata": {
  "kernelspec": {
   "display_name": "Environment (virtualenv_myvirtualenv)",
   "language": "python",
   "name": "virtualenv_myvirtualenv"
  },
  "language_info": {
   "codemirror_mode": {
    "name": "ipython",
    "version": 3
   },
   "file_extension": ".py",
   "mimetype": "text/x-python",
   "name": "python",
   "nbconvert_exporter": "python",
   "pygments_lexer": "ipython3",
   "version": "3.6.9"
  }
 },
 "nbformat": 4,
 "nbformat_minor": 0
}
