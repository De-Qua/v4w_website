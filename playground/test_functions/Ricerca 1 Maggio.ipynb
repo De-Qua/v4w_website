{
  "cells": [
    {
      "cell_type": "code",
      "source": [
        "import sys, importlib\n",
        "reload(sys.modules[\"functions\"])\n",
        "reload(sys.modules[\"searches\"])\n",
        "import functions as func\n",
        "import searches as src\n",
        "import numpy as np\n",
        "import os\n",
        "from functools import partial, update_wrapper\n"
      ],
      "outputs": [],
      "execution_count": null,
      "metadata": {
        "collapsed": true,
        "outputExpanded": false,
        "jupyter": {
          "source_hidden": false,
          "outputs_hidden": false
        },
        "nteract": {
          "transient": {
            "deleting": false
          }
        }
      }
    },
    {
      "cell_type": "code",
      "source": [
        "folder = os.getcwd()\n",
        "folder_db = os.path.join(folder,\"app\",\"static\",\"files\")"
      ],
      "outputs": [],
      "execution_count": null,
      "metadata": {
        "collapsed": true,
        "outputExpanded": false,
        "jupyter": {
          "source_hidden": false,
          "outputs_hidden": false
        },
        "nteract": {
          "transient": {
            "deleting": false
          }
        }
      }
    },
    {
      "cell_type": "code",
      "source": [
        "# Lista completa\n",
        "path_civ = os.path.join(folder_db,\"lista_key.txt\")\n",
        "civici_tpn = np.loadtxt(path_civ, delimiter = \";\" , comments=\",\",dtype='str')\n",
        "# Lista solo indirizzi\n",
        "path_indirizzi = os.path.join(folder_db,\"lista_civici_only.txt\")\n",
        "indirizzi = np.loadtxt(path_indirizzi, delimiter = \";\", comments=\",\",dtype='str')\n",
        "# Lista solo denominazioni\n",
        "path_denominazioni = os.path.join(folder_db,\"lista_denominazioni_csv.txt\")\n",
        "denominazioni = np.loadtxt(path_denominazioni, delimiter = \";\", comments=\",\" ,dtype='str')\n",
        "# Lista solo toponimi\n",
        "path_toponimi = os.path.join(folder_db,\"lista_TP_csv.txt\")\n",
        "toponimi = np.loadtxt(path_toponimi, delimiter = \";\", comments=\",\" ,dtype='str')\n"
      ],
      "outputs": [],
      "execution_count": null,
      "metadata": {
        "collapsed": true,
        "outputExpanded": false,
        "jupyter": {
          "source_hidden": false,
          "outputs_hidden": false
        },
        "nteract": {
          "transient": {
            "deleting": false
          }
        }
      }
    },
    {
      "cell_type": "code",
      "source": [
        "# FUNZIONI DA TESTARE\n",
        "functions_to_test = [func.get_close_matches_indexes_original, func.get_close_matches_indexes, func.fuzzy_extract_matches]"
      ],
      "outputs": [],
      "execution_count": null,
      "metadata": {
        "collapsed": true,
        "outputExpanded": false,
        "jupyter": {
          "source_hidden": false,
          "outputs_hidden": false
        },
        "nteract": {
          "transient": {
            "deleting": false
          }
        }
      }
    },
    {
      "cell_type": "code",
      "source": [
        "# TESTARE\n",
        "punti = func.test_functions(functions_to_test, civici_tpn, src.list_of_searches, src.categories, saveresults=True, savelog=True)\n"
      ],
      "outputs": [],
      "execution_count": null,
      "metadata": {
        "collapsed": true,
        "outputExpanded": false,
        "jupyter": {
          "source_hidden": false,
          "outputs_hidden": false
        },
        "nteract": {
          "transient": {
            "deleting": false
          }
        }
      }
    },
    {
      "cell_type": "code",
      "source": [
        "search_functions_to_test = [func.get_close_matches_indexes_original, func.get_close_matches_indexes, func.fuzzy_extract_matches]\n",
        "possibilities = [indirizzi, denominazioni, toponimi]\n",
        "punti_search = func.test_search_functions(search_functions_to_test, possibilities, src.list_of_searches, src.categories, saveresults=True, savelog=True)"
      ],
      "outputs": [],
      "execution_count": null,
      "metadata": {
        "collapsed": true,
        "outputExpanded": false,
        "jupyter": {
          "source_hidden": false,
          "outputs_hidden": false
        },
        "nteract": {
          "transient": {
            "deleting": false
          }
        }
      }
    },
    {
      "cell_type": "code",
      "source": [
        "## NON FUNZIONANTE\n",
        "# IDEA DI PLOTTARE I GRAFICI DEI RISULTATI"
      ],
      "outputs": [],
      "execution_count": null,
      "metadata": {
        "collapsed": true,
        "outputExpanded": false,
        "jupyter": {
          "source_hidden": false,
          "outputs_hidden": false
        },
        "nteract": {
          "transient": {
            "deleting": false
          }
        }
      }
    },
    {
      "cell_type": "code",
      "source": [
        "folder_log = os.path.join(folder,\"log_ricerca\")\n",
        "func.plot_figure(folder_log, src.categories)"
      ],
      "outputs": [],
      "execution_count": null,
      "metadata": {
        "collapsed": true,
        "outputExpanded": false,
        "jupyter": {
          "source_hidden": false,
          "outputs_hidden": false
        },
        "nteract": {
          "transient": {
            "deleting": false
          }
        }
      }
    }
  ],
  "metadata": {
    "kernelspec": {
      "argv": [
        "/Users/ale/anaconda3/envs/venezia/bin/python",
        "-m",
        "ipykernel_launcher",
        "-f",
        "{connection_file}"
      ],
      "display_name": "Python 3",
      "language": "python",
      "name": "python3"
    }
  },
  "nbformat": 4,
  "nbformat_minor": 0
}