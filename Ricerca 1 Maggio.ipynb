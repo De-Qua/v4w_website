{
 "cells": [
  {
   "cell_type": "code",
   "execution_count": 9,
   "metadata": {
    "collapsed": false
   },
   "outputs": [],
   "source": [
    "import functions as func\n",
    "import searches as src\n",
    "import numpy as np\n",
    "import os"
   ]
  },
  {
   "cell_type": "code",
   "execution_count": 10,
   "metadata": {
    "collapsed": true
   },
   "outputs": [],
   "source": [
    "folder = os.getcwd()\n",
    "folder_db = os.path.join(folder,\"app\",\"static\",\"files\")"
   ]
  },
  {
   "cell_type": "code",
   "execution_count": 11,
   "metadata": {
    "collapsed": true
   },
   "outputs": [],
   "source": [
    "# LISTA\n",
    "path_civ = os.path.join(folder_db,\"lista_key.txt\")\n",
    "civici_tpn = np.loadtxt(path_civ, delimiter = \";\" , comments=\",\",dtype='str')"
   ]
  },
  {
   "cell_type": "code",
   "execution_count": 12,
   "metadata": {
    "collapsed": true
   },
   "outputs": [],
   "source": [
    "# FUNZIONI DA TESTARE\n",
    "functions_to_test = [func.get_close_matches_indexes_original, func.get_close_matches_indexes, func.fuzzy_extract_matches]"
   ]
  },
  {
   "cell_type": "code",
   "execution_count": 15,
   "metadata": {
    "collapsed": false
   },
   "outputs": [
    {
     "ename": "TypeError",
     "evalue": "test_functions() got an unexpected keyword argument 'SAVERESULTS'",
     "output_type": "error",
     "traceback": [
      "\u001b[0;31m---------------------------------------------------------------------------\u001b[0m",
      "\u001b[0;31mTypeError\u001b[0m                                 Traceback (most recent call last)",
      "\u001b[0;32m<ipython-input-15-a7a5e24ea1f2>\u001b[0m in \u001b[0;36m<module>\u001b[0;34m\u001b[0m\n\u001b[1;32m      1\u001b[0m \u001b[0;31m# TESTARE\u001b[0m\u001b[0;34m\u001b[0m\u001b[0;34m\u001b[0m\u001b[0;34m\u001b[0m\u001b[0m\n\u001b[0;32m----> 2\u001b[0;31m \u001b[0mpunti\u001b[0m \u001b[0;34m=\u001b[0m \u001b[0mfunc\u001b[0m\u001b[0;34m.\u001b[0m\u001b[0mtest_functions\u001b[0m\u001b[0;34m(\u001b[0m\u001b[0mfunctions_to_test\u001b[0m\u001b[0;34m,\u001b[0m \u001b[0mcivici_tpn\u001b[0m\u001b[0;34m,\u001b[0m \u001b[0msrc\u001b[0m\u001b[0;34m.\u001b[0m\u001b[0mlist_of_searches\u001b[0m\u001b[0;34m,\u001b[0m \u001b[0msrc\u001b[0m\u001b[0;34m.\u001b[0m\u001b[0mcategories\u001b[0m\u001b[0;34m,\u001b[0m \u001b[0mSAVERESULTS\u001b[0m\u001b[0;34m=\u001b[0m\u001b[0;32mTrue\u001b[0m\u001b[0;34m,\u001b[0m \u001b[0mSAVELOG\u001b[0m\u001b[0;34m=\u001b[0m\u001b[0;32mTrue\u001b[0m\u001b[0;34m)\u001b[0m\u001b[0;34m\u001b[0m\u001b[0;34m\u001b[0m\u001b[0m\n\u001b[0m",
      "\u001b[0;31mTypeError\u001b[0m: test_functions() got an unexpected keyword argument 'SAVERESULTS'"
     ]
    }
   ],
   "source": [
    "# TESTARE\n",
    "punti = func.test_functions(functions_to_test, civici_tpn, src.list_of_searches, src.categories, saveresults=True, savelog=True)\n"
   ]
  },
  {
   "cell_type": "code",
   "execution_count": null,
   "metadata": {
    "collapsed": true
   },
   "outputs": [],
   "source": [
    "## NON FUNZIONANTE\n",
    "# IDEA DI PLOTTARE I GRAFICI DEI RISULTATI\n",
    "import matplotlib.pyplot as plt\n",
    "%matplotlib\n",
    "\n",
    "print(punti)\n",
    "for punti_func in punti:\n",
    "\n",
    "plt.bar([0, 1, 2, 3], punti[:,0]);\n",
    "plt.bar([0, 1, 2, 3], punti[:,1])"
   ]
  }
 ],
 "metadata": {
  "kernelspec": {
   "display_name": "Environment (virtualenv_myvirtualenv)",
   "language": "python",
   "name": "virtualenv_myvirtualenv"
  },
  "language_info": {
   "codemirror_mode": {
    "name": "ipython",
    "version": 3
   },
   "file_extension": ".py",
   "mimetype": "text/x-python",
   "name": "python",
   "nbconvert_exporter": "python",
   "pygments_lexer": "ipython3",
   "version": "3.6.9"
  }
 },
 "nbformat": 4,
 "nbformat_minor": 0
}
